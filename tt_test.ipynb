{
 "cells": [
  {
   "cell_type": "code",
   "execution_count": 53,
   "metadata": {},
   "outputs": [
    {
     "data": {
      "text/html": [
       "\n",
       "<style>\n",
       "    .output-plaintext, .output-stream, .output {\n",
       "        font-family: Menlo; # Any monospaced font should work\n",
       "        line-height: 1.3 !important;\n",
       "        font-size: 14px !important;\n",
       "    }\n",
       "</style>\n"
      ],
      "text/plain": [
       "<IPython.core.display.HTML object>"
      ]
     },
     "execution_count": 53,
     "metadata": {},
     "output_type": "execute_result"
    }
   ],
   "source": [
    "from IPython.core.display import HTML\n",
    "HTML(r\"\"\"\n",
    "<style>\n",
    "    .output-plaintext, .output-stream, .output {\n",
    "        font-family: Menlo; # Any monospaced font should work\n",
    "        line-height: 1.3 !important;\n",
    "        font-size: 14px !important;\n",
    "    }\n",
    "</style>\n",
    "\"\"\")"
   ]
  },
  {
   "cell_type": "code",
   "execution_count": 114,
   "metadata": {},
   "outputs": [
    {
     "name": "stdout",
     "output_type": "stream",
     "text": [
      "Impossible: 50\n",
      "Impossible: 0\n"
     ]
    }
   ],
   "source": [
    "import numpy as np\n",
    "from operator import and_\n",
    "from operator import or_\n",
    "from itertools import product, combinations, chain\n",
    "from functools import reduce\n",
    "\n",
    "inv = lambda a, bitlen: (((1<<bitlen)-1)^a)\n",
    "funcs = [   lambda a, b, n:       a  &  b , # AND\n",
    "            lambda a, b, n:       a  |  b , #  OR\n",
    "            lambda a, b, n:       a  ^  b , # XOR\n",
    "            lambda a, b, n:      (a  |  b), # NOR\n",
    "            lambda a, b, n: inv(a,n) &  b , # IMP\n",
    "            lambda a, b, n: inv(b,n) &  a , # IMP\n",
    "        ]\n",
    "def powerset(iterable, minlen = 1):\n",
    "    \"\"\"Yields all possible subsets of the iterable.\n",
    "\n",
    "        >>> list(powerset([1, 2, 3]))\n",
    "        [(), (1,), (2,), (3,), (1, 2), (1, 3), (2, 3), (1, 2, 3)]\n",
    "\n",
    "    :func:`powerset` will operate on iterables that aren't :class:`set`\n",
    "    instances, so repeated elements in the input will produce repeated elements\n",
    "    in the output. Use :func:`unique_everseen` on the input to avoid generating\n",
    "    duplicates:\n",
    "\n",
    "        >>> seq = [1, 1, 0]\n",
    "        >>> list(powerset(seq))\n",
    "        [(), (1,), (1,), (0,), (1, 1), (1, 0), (1, 0), (1, 1, 0)]\n",
    "        >>> from more_itertools import unique_everseen\n",
    "        >>> list(powerset(unique_everseen(seq)))\n",
    "        [(), (1,), (0,), (1, 0)]\n",
    "\n",
    "    \"\"\"\n",
    "    s = list(iterable)\n",
    "    return chain.from_iterable(combinations(s, r) for r in range(minlen, len(s) + 1))\n",
    "    \n",
    "def bin_codes(nvars, with_neg = True):\n",
    "    bitlen = 1 << nvars\n",
    "    codes = []\n",
    "    for i in range(nvars):\n",
    "        base = (1 << (1 << i)) - 1\n",
    "        deg = np.arange(0, bitlen, 1 << (i + 1), dtype=int)\n",
    "        num = np.sum(base * (1 << deg))\n",
    "        # print(f\"{num:0{bitlen}b} -> {num}\")\n",
    "        codes.append(num)\n",
    "        if with_neg:\n",
    "            codes.append(inv(num, bitlen))\n",
    "    return codes\n",
    "nbits = 3\n",
    "bitlen = 1 << nbits\n",
    "codes = bin_codes(nbits)\n",
    "    \n",
    "inputs = set()\n",
    "for items in powerset(codes, minlen = 2):\n",
    "    num = reduce(or_, items)\n",
    "    inputs.add(num)\n",
    "    \n",
    "outputs = set()\n",
    "for a, b in combinations(inputs, 2):\n",
    "    for func in funcs:\n",
    "        out = func(a, b, bitlen)\n",
    "        outputs.add(out)\n",
    "\n",
    "print(f'Impossible: {len(set(range(1 << bitlen)).difference(sorted(outputs)))}')\n",
    "# for num in set(range(1 << bitlen)).difference(sorted(outputs)):\n",
    "#     print(f\"{num:0{bitlen}b} -> {num}\")\n",
    "    \n",
    "inputs2 = inputs | outputs\n",
    "\n",
    "outputs2 = set()\n",
    "for a, b in combinations(inputs2, 2):\n",
    "    for func in funcs:\n",
    "        out = func(a, b, bitlen)\n",
    "        outputs2.add(out)\n",
    "        \n",
    "# print('Possible:')\n",
    "# for num in sorted(outputs2):\n",
    "#     print(f\"{num:0{bitlen}b} -> {num}\")\n",
    "\n",
    "\n",
    "print(f'Impossible: {len(set(range(1 << bitlen)).difference(sorted(outputs2)))}')\n",
    "# for num in set(range(1 << bitlen)).difference(sorted(outputs2)):\n",
    "#     print(f\"{num:0{bitlen}b} -> {num}\")\n",
    "        "
   ]
  },
  {
   "cell_type": "code",
   "execution_count": 133,
   "metadata": {},
   "outputs": [
    {
     "name": "stdout",
     "output_type": "stream",
     "text": [
      "[255, 3855, 13107, 21845, 43690, 52428, 61680, 65280]\n",
      "33\n",
      "81\n",
      "81\n",
      "[  255  3855  4095 13107 13311 16191 16383 21845 22015 24415 24575 30583\n",
      " 30719 32639 32767 43690 43775 44975 45055 48059 48127 49087 49151 52428\n",
      " 52479 53199 53247 56797 56831 57311 57343 61166 61183 61423 61439 61680\n",
      " 61695 62451 62463 62965 62975 63479 63487 64250 64255 64507 64511 64764\n",
      " 64767 65021 65023 65278 65279 65280 65295 65331 65343 65365 65375 65399\n",
      " 65407 65450 65455 65467 65471 65484 65487 65501 65503 65518 65519 65520\n",
      " 65523 65525 65527 65530 65531 65532 65533 65534 65535]\n",
      "33\n",
      "81\n",
      "81\n",
      "Remaining: 61770\n",
      "60974\n"
     ]
    }
   ],
   "source": [
    "import numpy as np\n",
    "from operator import and_\n",
    "from operator import or_\n",
    "from itertools import product, combinations, chain\n",
    "from functools import reduce\n",
    "\n",
    "inv = lambda a, bitlen: (((1<<bitlen)-1)^a)\n",
    "funcs = [   lambda a, b, n:       a  &  b , # AND\n",
    "            lambda a, b, n:       a  |  b , #  OR\n",
    "            lambda a, b, n:       a  ^  b , # XOR\n",
    "            lambda a, b, n:      (a  |  b), # NOR\n",
    "            lambda a, b, n: inv(a,n) &  b , # IMP\n",
    "            lambda a, b, n: inv(b,n) &  a , # IMP\n",
    "        ]\n",
    "def pset(iterable, minlen = 1, maxlen = None):\n",
    "    \"\"\"Yields all powersets of the iterable of size between minlen and maxlen.  \"\"\"\n",
    "    s = list(iterable)\n",
    "    if maxlen is None:\n",
    "        maxlen = len(s)\n",
    "    return chain.from_iterable(combinations(s, r) for r in range(minlen, maxlen + 1))\n",
    "\n",
    "def bin_codes(nvars, with_neg = True):\n",
    "    ''' Generate binary codes for {nvars} variables.\n",
    "    By default, also produce the negated codes.\n",
    "    Examples: \n",
    "    >> codes = bin_codes(2, with_neg = True ) -> [0b0101, 0b1010, 0b0011, 0b1100]\n",
    "    >> codes = bin_codes(2, with_neg = False) -> [0b01010101, 0b00110011, 0b00001111]\n",
    "    '''\n",
    "    bitlen = 1 << nvars\n",
    "    codes = []\n",
    "    for i in range(nvars):\n",
    "        base = (1 << (1 << i)) - 1\n",
    "        deg = np.arange(0, bitlen, 1 << (i + 1), dtype=int)\n",
    "        num = np.sum(base * (1 << deg))\n",
    "        # print(f\"{num:0{bitlen}b} -> {num}\")\n",
    "        codes.append(num)\n",
    "        if with_neg:\n",
    "            codes.append(inv(num, bitlen))\n",
    "    return codes\n",
    "\n",
    "def or_up_to_depth(codes, maxdepth):\n",
    "    '''Returns all possible truth tables obtainable from given codes using an OR tree with maximum depth of {maxdepth}'''\n",
    "    \n",
    "    for i in range(1, maxdepth+1):\n",
    "        new_codes = np.unique(np.bitwise_or.outer(codes, codes))\n",
    "        print(len(new_codes))\n",
    "        if len(new_codes) == len(codes):\n",
    "            # print(f'Aborted at depth {i}')\n",
    "            break\n",
    "        else:\n",
    "            codes = new_codes\n",
    "    return codes\n",
    "        \n",
    "\n",
    "nbits = 4\n",
    "bitlen = 1 << nbits\n",
    "mask = (1 << bitlen) - 1\n",
    "codes = bin_codes(nbits)\n",
    "\n",
    "print(sorted(codes))\n",
    "depth = 5\n",
    "outputs = set()\n",
    "for i in range(1, depth + 1):\n",
    "    inputs = or_up_to_depth(codes, maxdepth = 5)\n",
    "    ORed  = np.bitwise_or.outer(inputs, inputs)\n",
    "    ANDed = np.bitwise_and.outer(inputs, inputs)\n",
    "    IMPed = np.bitwise_and.outer(inputs, np.bitwise_xor(inputs, mask))\n",
    "    NORed = np.bitwise_xor(ORed, mask)\n",
    "    XORed = np.bitwise_xor.outer(inputs, inputs)\n",
    "\n",
    "    outputs.update(n for q in chain(ORed, ANDed, IMPed, NORed, XORed,) for n in q.ravel())\n",
    "\n",
    "    remaining = mask+1 - len(outputs)\n",
    "    print(f'Remaining: {remaining}')\n",
    "    if not remaining:\n",
    "        print(f'All possible functions are achievable with at most {i} cycles')\n",
    "        break\n",
    "    # for num in set(range(1 << bitlen)).difference(sorted(outputs2)):\n",
    "    #     print(f\"{num:0{bitlen}b} -> {num}\")\n",
    "    codes = list(set().union(codes, outputs))\n"
   ]
  },
  {
   "cell_type": "code",
   "execution_count": 62,
   "metadata": {},
   "outputs": [
    {
     "name": "stdout",
     "output_type": "stream",
     "text": [
      "01010101\n",
      "00110011\n",
      "00001111\n",
      "10101010\n",
      "11001100\n",
      "11110000\n"
     ]
    }
   ],
   "source": [
    "codes = bin_codes(nbits)\n",
    "for num in combinations(codes):\n",
    "    print(f\"{num:0{bitlen}b}\")\n"
   ]
  },
  {
   "cell_type": "code",
   "execution_count": 56,
   "metadata": {},
   "outputs": [
    {
     "name": "stdout",
     "output_type": "stream",
     "text": [
      "0000000000000001 -> 1\n",
      "0001000100011111 -> 4383\n",
      "0001000100011110 -> 4382\n",
      "0000000100010001 -> 273\n",
      "0001111111111111 -> 8191\n",
      "0001111011101110 -> 7918\n",
      "0000000000000111 -> 7\n",
      "0111011101111111 -> 30591\n",
      "0111011101111000 -> 30584\n",
      "0000011101110111 -> 1911\n",
      "0111111111111111 -> 32767\n",
      "0111100010001000 -> 30856\n"
     ]
    }
   ],
   "source": [
    "def eval_tree_3(bits, operators):\n",
    "    '''Evaluates the tree of height 3'''\n",
    "    op1, op2, op3 = operators\n",
    "    a,b,c,d = bits\n",
    "    return op3(op1(a,b), op2(c,d))\n",
    "\n",
    "for operators in product(*[(_and, _or),(_and, _or),(_and, _or, _xor)]):\n",
    "    result = eval_tree_3(codes, operators)\n",
    "    print(f\"{result:0{bitlen}b} -> {result}\")"
   ]
  }
 ],
 "metadata": {
  "kernelspec": {
   "display_name": "base",
   "language": "python",
   "name": "python3"
  },
  "language_info": {
   "codemirror_mode": {
    "name": "ipython",
    "version": 3
   },
   "file_extension": ".py",
   "mimetype": "text/x-python",
   "name": "python",
   "nbconvert_exporter": "python",
   "pygments_lexer": "ipython3",
   "version": "3.9.12"
  },
  "orig_nbformat": 4,
  "vscode": {
   "interpreter": {
    "hash": "9d05b8f1ed7c049203be4de889c679ceaf2ac692d207f05510ab9aa01a6678be"
   }
  }
 },
 "nbformat": 4,
 "nbformat_minor": 2
}
